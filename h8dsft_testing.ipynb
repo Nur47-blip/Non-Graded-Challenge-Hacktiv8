{
 "cells": [
  {
   "cell_type": "markdown",
   "metadata": {},
   "source": [
    "Task\n",
    "\n",
    "Do unit testing for a library system from the previous NGC \n"
   ]
  },
  {
   "cell_type": "code",
   "execution_count": 24,
   "metadata": {},
   "outputs": [
    {
     "name": "stdout",
     "output_type": "stream",
     "text": [
      "Current Library is empty.\n",
      "Book successfully added.\n",
      "Book successfully added.\n",
      "Book successfully added.\n",
      "Book ID has been used.\n",
      "Book successfully added.\n",
      "{'book_id': 2, 'book_title': 'Naruto', 'book_author': 'Masashi Kishimoto'}\n",
      "Book with the title `Attack on Titan` is not found.\n",
      "{'book_id': 2, 'book_title': 'Naruto', 'book_author': 'Masashi Kishimoto'}\n",
      "Book with the author `Hajime Isayama` is not found.\n",
      "Book with ID 10 is not found.\n",
      "{'book_id': 2, 'book_title': 'Naruto', 'book_author': 'Masashi Kishimoto'}\n",
      "{'book_id': 3, 'book_title': 'Ranah 3 Warna', 'book_author': 'Ahmad Fuadi'}\n",
      "{'book_id': 4, 'book_title': 'The Art of Computer Programming', 'book_author': 'Donald Knuth'}\n"
     ]
    }
   ],
   "source": [
    "class Catalog:\n",
    "    '''\n",
    "    Data buku disimpan dalam sebuah list bernama books.\n",
    "    Masing-masing elemen pada books berupa sebuah dict dengan 3 key: 'book_id', 'book_title', 'book_author'.\n",
    "    '''\n",
    "    def __init__(self):\n",
    "        self.books = []\n",
    "\n",
    "    def add_book(self, id, title, author):\n",
    "        # Jika sudah terdapat buku dengan id yang sama, raise error\n",
    "        try:\n",
    "            for book in self.books: \n",
    "                if book['book_id'] == id:\n",
    "                    raise ValueError()\n",
    "        except:\n",
    "            print(\"Book ID has been used.\")\n",
    "        else:\n",
    "            self.books.append({'book_id':id, 'book_title':title, 'book_author':author})\n",
    "            print(\"Book successfully added.\")\n",
    "\n",
    "    def search_by_title(self, title):\n",
    "        # Jika buku tidak ditemukan, raise error\n",
    "        result = None\n",
    "        try:\n",
    "            for book in self.books: \n",
    "                if book['book_title'] == title:\n",
    "                    result = book\n",
    "                    break\n",
    "            if result == None:\n",
    "                raise ValueError()\n",
    "        except:\n",
    "            print(f\"Book with the title `{title}` is not found.\")\n",
    "            return None\n",
    "        else:\n",
    "            print(result)\n",
    "            return result\n",
    "\n",
    "    \n",
    "    def search_by_author(self, author):\n",
    "        # Jika buku tidak ditemukan, raise error\n",
    "        result = None\n",
    "        try:\n",
    "            for book in self.books:\n",
    "                if book['book_author'] == author:\n",
    "                    result = book\n",
    "                    break\n",
    "            if result == None:\n",
    "                raise ValueError()\n",
    "        except:\n",
    "            print(f\"Book with the author `{author}` is not found.\")\n",
    "            return None\n",
    "        else:\n",
    "            print(result)\n",
    "            return result\n",
    "\n",
    "    def remove(self, id):\n",
    "        # Jika buku tidak ditemukan, raise error\n",
    "        result = None\n",
    "        try:\n",
    "            for book in self.books:\n",
    "                if book[\"book_id\"] == id:\n",
    "                    result = book\n",
    "                    break\n",
    "            if result == None:\n",
    "                raise ValueError()\n",
    "        except:\n",
    "            print(f\"Book with ID {id} is not found.\")\n",
    "        else:\n",
    "            self.books.remove(book)\n",
    "\n",
    "    def display(self):\n",
    "        # Jika self.books kosong, raise error\n",
    "        try:\n",
    "            if len(self.books) == 0:\n",
    "                raise ValueError()\n",
    "        except:\n",
    "            print(\"Current Library is empty.\")\n",
    "        else:\n",
    "            for book in self.books:\n",
    "                print(book)\n",
    "\n",
    "myLibrary = Catalog()\n",
    "myLibrary.display()\n",
    "myLibrary.add_book(1, \"Doraemon\", \"Fujiko F. Fujio\")\n",
    "myLibrary.add_book(2, \"Naruto\", \"Masashi Kishimoto\")\n",
    "myLibrary.add_book(3, \"Ranah 3 Warna\", \"Ahmad Fuadi\")\n",
    "myLibrary.add_book(3, \"One Piece\", \"Eiichiro Oda\")\n",
    "myLibrary.add_book(4, \"The Art of Computer Programming\", \"Donald Knuth\")\n",
    "myLibrary.search_by_title(\"Naruto\")\n",
    "myLibrary.search_by_title(\"Attack on Titan\")\n",
    "myLibrary.search_by_author(\"Masashi Kishimoto\")\n",
    "myLibrary.search_by_author(\"Hajime Isayama\")\n",
    "myLibrary.remove(1)\n",
    "myLibrary.remove(10)\n",
    "myLibrary.display()\n",
    "\n",
    "\n",
    "    "
   ]
  },
  {
   "cell_type": "code",
   "execution_count": 25,
   "metadata": {},
   "outputs": [
    {
     "name": "stderr",
     "output_type": "stream",
     "text": [
      "..\n",
      "----------------------------------------------------------------------\n",
      "Ran 2 tests in 0.001s\n",
      "\n",
      "OK\n"
     ]
    },
    {
     "name": "stdout",
     "output_type": "stream",
     "text": [
      "Book successfully added.\n",
      "Book successfully added.\n",
      "Book successfully added.\n",
      "Book ID has been used.\n",
      "Book successfully added.\n",
      "{'book_id': 2, 'book_title': 'Naruto', 'book_author': 'Masashi Kishimoto'}\n",
      "{'book_id': 2, 'book_title': 'Naruto', 'book_author': 'Masashi Kishimoto'}\n"
     ]
    },
    {
     "data": {
      "text/plain": [
       "<unittest.main.TestProgram at 0x1ba4cf3b350>"
      ]
     },
     "execution_count": 25,
     "metadata": {},
     "output_type": "execute_result"
    }
   ],
   "source": [
    "import unittest\n",
    "\n",
    "class Testing(unittest.TestCase):\n",
    "    \n",
    "    myLibrary = Catalog()\n",
    "    myLibrary.add_book(1, \"Doraemon\", \"Fujiko F. Fujio\")\n",
    "    myLibrary.add_book(2, \"Naruto\", \"Masashi Kishimoto\")\n",
    "    myLibrary.add_book(3, \"Ranah 3 Warna\", \"Ahmad Fuadi\")\n",
    "    myLibrary.add_book(3, \"One Piece\", \"Eiichiro Oda\")\n",
    "    myLibrary.add_book(4, \"The Art of Computer Programming\", \"Donald Knuth\")\n",
    "\n",
    "    def test_search_by_title(self):\n",
    "        result = myLibrary.search_by_title(\"Naruto\")\n",
    "        self.assertEqual(result, {'book_id': 2, 'book_title': 'Naruto', 'book_author': 'Masashi Kishimoto'})\n",
    "\n",
    "    def test_search_by_author(self):\n",
    "        result = myLibrary.search_by_author(\"Masashi Kishimoto\")\n",
    "        self.assertEqual(result, {'book_id': 2, 'book_title': 'Naruto', 'book_author': 'Masashi Kishimoto'})\n",
    "\n",
    "unittest.main(argv=[''], exit=False)"
   ]
  }
 ],
 "metadata": {
  "kernelspec": {
   "display_name": "Python 3",
   "language": "python",
   "name": "python3"
  },
  "language_info": {
   "codemirror_mode": {
    "name": "ipython",
    "version": 3
   },
   "file_extension": ".py",
   "mimetype": "text/x-python",
   "name": "python",
   "nbconvert_exporter": "python",
   "pygments_lexer": "ipython3",
   "version": "3.11.0"
  },
  "orig_nbformat": 4
 },
 "nbformat": 4,
 "nbformat_minor": 2
}
