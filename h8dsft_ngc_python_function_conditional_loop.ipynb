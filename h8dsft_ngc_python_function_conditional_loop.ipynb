{
 "cells": [
  {
   "cell_type": "markdown",
   "metadata": {},
   "source": [
    "Nama: Muhammad Nur Alamsyah\n",
    "Batch: RMT-023\n",
    "\n",
    "Non Graded Challenge : Python Function, Conditional, and LoopFTDS\n",
    "Phase 0 - Week 1"
   ]
  },
  {
   "cell_type": "markdown",
   "metadata": {},
   "source": [
    "Task #1 - Number of Word\n",
    "\n",
    "Create a function that count the number of word in a sentence.\n",
    "Instruction:\n",
    "1.Create function called `number_of_word`.\n",
    "2.This function takes 1 input, `sentence`.\n",
    "3.Inside this function, you can utilize `.split()` method to split the sentence into list of word(s).\n",
    "4.Also, `len()` function to count the element inside a list.\n",
    "5.Return the number of word from the sentence.\n",
    "\n",
    "Example:\n",
    "-Input: number_of_word(sentence = ’Hello World!’)\n",
    "-Output: 2-Input: number_of_word(sentence = ’Once Upon a Time in a faraway land’)\n",
    "-Output: 8"
   ]
  },
  {
   "cell_type": "code",
   "execution_count": 8,
   "metadata": {},
   "outputs": [
    {
     "name": "stdout",
     "output_type": "stream",
     "text": [
      "2\n",
      "8\n"
     ]
    }
   ],
   "source": [
    "def number_of_word(sentence):\n",
    "    s = sentence.split()\n",
    "    return len(s)\n",
    "\n",
    "print(number_of_word(\"Hello World!\"))\n",
    "print(number_of_word(\"Once Upon a Time in a faraway land\"))"
   ]
  },
  {
   "cell_type": "markdown",
   "metadata": {},
   "source": [
    "Task #2 - Find Multiple\n",
    "Create a function that will get list of number(s) from a certain range that multiples of given number.\n",
    "\n",
    "Instruction:\n",
    "1.Create function called `find_multiples`.\n",
    "2.This function takes 3 input: `start_range`, `end_range`, and `multiple`.\n",
    "3.From every number within the given range, check if that number is the mutliples of `multiple`.\n",
    "4.Return list of the possible multiple number(s).\n",
    "\n",
    "Example:\n",
    "-Input: find_multiple(start_range= 1, end_range= 20, multiple= 5)\n",
    "-Output: [5, 10, 15, 20]\n",
    "-Input: find_multiple(start_range= 1, end_range= 50, multiple= 10)\n",
    "-Output: [10, 20, 30, 40, 50]5\n"
   ]
  },
  {
   "cell_type": "code",
   "execution_count": 12,
   "metadata": {},
   "outputs": [
    {
     "name": "stdout",
     "output_type": "stream",
     "text": [
      "[5, 10, 15, 20]\n"
     ]
    },
    {
     "data": {
      "text/plain": [
       "[10, 20, 30, 40, 50]"
      ]
     },
     "execution_count": 12,
     "metadata": {},
     "output_type": "execute_result"
    }
   ],
   "source": [
    "def find_multiple(start_range, end_range, multiple):\n",
    "    result = [i for i in range(start_range, end_range+1) if i % multiple == 0]\n",
    "    return result\n",
    "\n",
    "print(find_multiple(start_range= 1, end_range= 20, multiple= 5))\n",
    "find_multiple(start_range= 1, end_range= 50, multiple= 10)"
   ]
  },
  {
   "cell_type": "markdown",
   "metadata": {},
   "source": [
    "Task #3 - Grade Converter\n",
    "Create a function that will convert student's grade to GPA\n",
    "\n",
    "Instruction:\n",
    "1.Create function called `Grade_Converter`.\n",
    "2.This function takes input: `convert_to` and n-paired of student(s) name with its respective score.\n",
    "3.Input argument for `convert_to` is either `letter_grade` or `gpa`.\n",
    "4.You can utilize **kwargs input argument to generate n-length paired of student(s) name with its respective score (Dictionary).\n",
    "5.This function will return dictionary of student’s name along with converted Letter Grade or GPA, depending on user input in `convert_to` parameter."
   ]
  },
  {
   "cell_type": "code",
   "execution_count": 15,
   "metadata": {},
   "outputs": [
    {
     "name": "stdout",
     "output_type": "stream",
     "text": [
      "{'Adam': 2.5, 'Faiz': 4}\n",
      "{'Albert': 'A', 'Dwi': 'B', 'Syahdan': 'D', 'Veronica': 'B'}\n"
     ]
    }
   ],
   "source": [
    "def Grade_Converter(convert_to, **student):\n",
    "    if (convert_to == 'letter_grade'):\n",
    "        for value in student:\n",
    "            if student[value] >= 85: student[value] = 'A'\n",
    "            elif student[value] >= 70: student[value] = 'B'\n",
    "            elif student[value] >= 60: student[value] = 'C'\n",
    "            elif student[value] >= 50: student[value] = 'D'\n",
    "            elif student[value] >= 40: student[value] = 'E'\n",
    "            else: student[value] = 'F'\n",
    "    else:\n",
    "        for value in student:\n",
    "            if student[value] >= 85: student[value] = 4\n",
    "            elif student[value] >= 70: student[value] = 3\n",
    "            elif student[value] >= 60: student[value] = 2.5\n",
    "            elif student[value] >= 50: student[value] = 2\n",
    "            elif student[value] >= 40: student[value] = 1.5\n",
    "            else: student[value] = 1\n",
    "    return student\n",
    "\n",
    "print(Grade_Converter(convert_to='gpa', Adam=62, Faiz=91))\n",
    "print(Grade_Converter(convert_to='letter_grade', Albert=90, Dwi=82, Syahdan=58, Veronica=84))"
   ]
  },
  {
   "cell_type": "markdown",
   "metadata": {},
   "source": [
    "Task #4 - Fibonacci Sequence\n",
    "\n",
    "Fibonacci sequence is a sequence in which each number is the sum of the two preceding ones. Suppose we have fibonacci sequence started with:\n",
    "0, 1, 1, 2, 3, 5, ...\n",
    "The next number should be 8 or sum of the two precedings, 3 and 5:\n",
    "0, 1, 1, 2, 3, 5, 8, ...\n",
    "Then the next number should be 13 or sum of the two precedings, 5 and 8:\n",
    "0, 1, 1, 2, 3, 5, 8, 13,  ...\n",
    "And so on.\n",
    "\n",
    "create a function that will return the value of n-th fibonacci number.Instruction:\n",
    "1.The function will take 1 input parameter, n, represents the asked number from our fibonacci sequence index.\n",
    "2.The fibonacci sequence will start with the value of 0 and 1.\n",
    "3.This function will return the n-th value from fibonacci sequence.\n"
   ]
  },
  {
   "cell_type": "code",
   "execution_count": 13,
   "metadata": {},
   "outputs": [
    {
     "name": "stdout",
     "output_type": "stream",
     "text": [
      "0\n",
      "3\n",
      "55\n"
     ]
    }
   ],
   "source": [
    "def my_function(n):\n",
    "    if n == 0: return 0\n",
    "    if n == 1: return 1\n",
    "    return my_function(n - 1) + my_function(n - 2)\n",
    "\n",
    "print(my_function(n = 0))\n",
    "print(my_function(n = 4))\n",
    "print(my_function(n = 10))"
   ]
  }
 ],
 "metadata": {
  "kernelspec": {
   "display_name": "Python 3",
   "language": "python",
   "name": "python3"
  },
  "language_info": {
   "codemirror_mode": {
    "name": "ipython",
    "version": 3
   },
   "file_extension": ".py",
   "mimetype": "text/x-python",
   "name": "python",
   "nbconvert_exporter": "python",
   "pygments_lexer": "ipython3",
   "version": "3.11.0"
  },
  "orig_nbformat": 4
 },
 "nbformat": 4,
 "nbformat_minor": 2
}
