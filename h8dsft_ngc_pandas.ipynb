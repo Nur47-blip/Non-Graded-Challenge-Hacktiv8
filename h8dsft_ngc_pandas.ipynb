{
 "cells": [
  {
   "cell_type": "markdown",
   "metadata": {},
   "source": [
    "### Non-Graded Challenge 8"
   ]
  },
  {
   "cell_type": "markdown",
   "metadata": {},
   "source": [
    "# Introduction\n",
    "\n",
    "Nama: Muhammad Nur Alamsyah\n",
    "\n",
    "Batch: RMT-023\n",
    "\n",
    "Objective: Menggunakan Pandas untuk melakukan data loading cleaning, dan exploration.\n",
    "\n",
    "Latar Belakang: Diberikan data kasus Covid-19 yang terjadi di Malaysia dan Singapura.\n",
    "\n",
    "Problem Statement: \n",
    "- Pada tanggal berapa kasus kematian mencapai puncaknya?\n",
    "- Pada tanggal berapa kasus aktif mencapai puncaknya?\n",
    "- Berapa total kematian keseluruhan?"
   ]
  },
  {
   "cell_type": "markdown",
   "metadata": {},
   "source": [
    "# Import Libraries"
   ]
  },
  {
   "cell_type": "markdown",
   "metadata": {},
   "source": [
    "Pengerjaan memanfaatkan DataFrame dari library Pandas"
   ]
  },
  {
   "cell_type": "code",
   "execution_count": 37,
   "metadata": {},
   "outputs": [],
   "source": [
    "import pandas as pd"
   ]
  },
  {
   "cell_type": "markdown",
   "metadata": {},
   "source": [
    "# Data Loading"
   ]
  },
  {
   "cell_type": "markdown",
   "metadata": {},
   "source": [
    "Memuat data dari 'data_ngc.csv'"
   ]
  },
  {
   "cell_type": "code",
   "execution_count": 38,
   "metadata": {},
   "outputs": [
    {
     "data": {
      "text/html": [
       "<div>\n",
       "<style scoped>\n",
       "    .dataframe tbody tr th:only-of-type {\n",
       "        vertical-align: middle;\n",
       "    }\n",
       "\n",
       "    .dataframe tbody tr th {\n",
       "        vertical-align: top;\n",
       "    }\n",
       "\n",
       "    .dataframe thead th {\n",
       "        text-align: right;\n",
       "    }\n",
       "</style>\n",
       "<table border=\"1\" class=\"dataframe\">\n",
       "  <thead>\n",
       "    <tr style=\"text-align: right;\">\n",
       "      <th></th>\n",
       "      <th>province_state</th>\n",
       "      <th>country_region</th>\n",
       "      <th>date</th>\n",
       "      <th>latitude</th>\n",
       "      <th>longitude</th>\n",
       "      <th>location_geom</th>\n",
       "      <th>confirmed</th>\n",
       "      <th>deaths</th>\n",
       "      <th>recovered</th>\n",
       "      <th>active</th>\n",
       "      <th>fips</th>\n",
       "      <th>admin2</th>\n",
       "      <th>combined_key</th>\n",
       "    </tr>\n",
       "  </thead>\n",
       "  <tbody>\n",
       "    <tr>\n",
       "      <th>0</th>\n",
       "      <td>NaN</td>\n",
       "      <td>Malaysia</td>\n",
       "      <td>2020-03-08</td>\n",
       "      <td>2.5000</td>\n",
       "      <td>112.5000</td>\n",
       "      <td>POINT(112.5 2.5)</td>\n",
       "      <td>99.0</td>\n",
       "      <td>0.0</td>\n",
       "      <td>24.0</td>\n",
       "      <td>NaN</td>\n",
       "      <td>NaN</td>\n",
       "      <td>NaN</td>\n",
       "      <td>NaN</td>\n",
       "    </tr>\n",
       "    <tr>\n",
       "      <th>1</th>\n",
       "      <td>NaN</td>\n",
       "      <td>Malaysia</td>\n",
       "      <td>2020-03-10</td>\n",
       "      <td>2.5000</td>\n",
       "      <td>112.5000</td>\n",
       "      <td>POINT(112.5 2.5)</td>\n",
       "      <td>129.0</td>\n",
       "      <td>0.0</td>\n",
       "      <td>24.0</td>\n",
       "      <td>NaN</td>\n",
       "      <td>NaN</td>\n",
       "      <td>NaN</td>\n",
       "      <td>NaN</td>\n",
       "    </tr>\n",
       "    <tr>\n",
       "      <th>2</th>\n",
       "      <td>NaN</td>\n",
       "      <td>Singapore</td>\n",
       "      <td>2020-03-13</td>\n",
       "      <td>1.3521</td>\n",
       "      <td>103.8198</td>\n",
       "      <td>POINT(103.8198 1.3521)</td>\n",
       "      <td>200.0</td>\n",
       "      <td>0.0</td>\n",
       "      <td>97.0</td>\n",
       "      <td>NaN</td>\n",
       "      <td>NaN</td>\n",
       "      <td>NaN</td>\n",
       "      <td>NaN</td>\n",
       "    </tr>\n",
       "    <tr>\n",
       "      <th>3</th>\n",
       "      <td>NaN</td>\n",
       "      <td>Malaysia</td>\n",
       "      <td>2020-03-13</td>\n",
       "      <td>4.2105</td>\n",
       "      <td>101.9758</td>\n",
       "      <td>POINT(101.9758 4.2105)</td>\n",
       "      <td>197.0</td>\n",
       "      <td>0.0</td>\n",
       "      <td>26.0</td>\n",
       "      <td>NaN</td>\n",
       "      <td>NaN</td>\n",
       "      <td>NaN</td>\n",
       "      <td>NaN</td>\n",
       "    </tr>\n",
       "    <tr>\n",
       "      <th>4</th>\n",
       "      <td>NaN</td>\n",
       "      <td>Malaysia</td>\n",
       "      <td>2020-03-15</td>\n",
       "      <td>4.2105</td>\n",
       "      <td>101.9758</td>\n",
       "      <td>POINT(101.9758 4.2105)</td>\n",
       "      <td>428.0</td>\n",
       "      <td>0.0</td>\n",
       "      <td>42.0</td>\n",
       "      <td>NaN</td>\n",
       "      <td>NaN</td>\n",
       "      <td>NaN</td>\n",
       "      <td>NaN</td>\n",
       "    </tr>\n",
       "  </tbody>\n",
       "</table>\n",
       "</div>"
      ],
      "text/plain": [
       "  province_state country_region        date  latitude  longitude  \\\n",
       "0            NaN       Malaysia  2020-03-08    2.5000   112.5000   \n",
       "1            NaN       Malaysia  2020-03-10    2.5000   112.5000   \n",
       "2            NaN      Singapore  2020-03-13    1.3521   103.8198   \n",
       "3            NaN       Malaysia  2020-03-13    4.2105   101.9758   \n",
       "4            NaN       Malaysia  2020-03-15    4.2105   101.9758   \n",
       "\n",
       "            location_geom  confirmed  deaths  recovered  active  fips  admin2  \\\n",
       "0        POINT(112.5 2.5)       99.0     0.0       24.0     NaN   NaN     NaN   \n",
       "1        POINT(112.5 2.5)      129.0     0.0       24.0     NaN   NaN     NaN   \n",
       "2  POINT(103.8198 1.3521)      200.0     0.0       97.0     NaN   NaN     NaN   \n",
       "3  POINT(101.9758 4.2105)      197.0     0.0       26.0     NaN   NaN     NaN   \n",
       "4  POINT(101.9758 4.2105)      428.0     0.0       42.0     NaN   NaN     NaN   \n",
       "\n",
       "  combined_key  \n",
       "0          NaN  \n",
       "1          NaN  \n",
       "2          NaN  \n",
       "3          NaN  \n",
       "4          NaN  "
      ]
     },
     "execution_count": 38,
     "metadata": {},
     "output_type": "execute_result"
    }
   ],
   "source": [
    "df = pd.read_csv('data_ngc.csv')\n",
    "df.head()"
   ]
  },
  {
   "cell_type": "markdown",
   "metadata": {},
   "source": [
    "Dari tabel di atas, terdapat beberapa kolom yang tidak relevan dengan problem. Yaitu kolom `province_state`, `latitude`, `longitude`, `location_geom`, `fips`, `admin2`, dan `combined_key`."
   ]
  },
  {
   "cell_type": "code",
   "execution_count": 39,
   "metadata": {},
   "outputs": [
    {
     "name": "stdout",
     "output_type": "stream",
     "text": [
      "<class 'pandas.core.frame.DataFrame'>\n",
      "RangeIndex: 11930 entries, 0 to 11929\n",
      "Data columns (total 13 columns):\n",
      " #   Column          Non-Null Count  Dtype  \n",
      "---  ------          --------------  -----  \n",
      " 0   province_state  9078 non-null   object \n",
      " 1   country_region  11930 non-null  object \n",
      " 2   date            11930 non-null  object \n",
      " 3   latitude        11321 non-null  float64\n",
      " 4   longitude       11321 non-null  float64\n",
      " 5   location_geom   11321 non-null  object \n",
      " 6   confirmed       11929 non-null  float64\n",
      " 7   deaths          11913 non-null  float64\n",
      " 8   recovered       1640 non-null   float64\n",
      " 9   active          1520 non-null   float64\n",
      " 10  fips            0 non-null      float64\n",
      " 11  admin2          0 non-null      float64\n",
      " 12  combined_key    11793 non-null  object \n",
      "dtypes: float64(8), object(5)\n",
      "memory usage: 1.2+ MB\n"
     ]
    }
   ],
   "source": [
    "df.info()"
   ]
  },
  {
   "cell_type": "markdown",
   "metadata": {},
   "source": [
    "Ada banyak null dari beberapa column, serta datatype yang tidak sesuai."
   ]
  },
  {
   "cell_type": "markdown",
   "metadata": {},
   "source": [
    "# Data Cleaning"
   ]
  },
  {
   "cell_type": "markdown",
   "metadata": {},
   "source": [
    "Pertama, hapus kolom `province_state`, `latitude`, `longitude`, `location_geom`, `fips`, `admin2`, dan `combined_key`."
   ]
  },
  {
   "cell_type": "code",
   "execution_count": 40,
   "metadata": {},
   "outputs": [
    {
     "name": "stdout",
     "output_type": "stream",
     "text": [
      "<class 'pandas.core.frame.DataFrame'>\n",
      "RangeIndex: 11930 entries, 0 to 11929\n",
      "Data columns (total 6 columns):\n",
      " #   Column          Non-Null Count  Dtype  \n",
      "---  ------          --------------  -----  \n",
      " 0   country_region  11930 non-null  object \n",
      " 1   date            11930 non-null  object \n",
      " 2   confirmed       11929 non-null  float64\n",
      " 3   deaths          11913 non-null  float64\n",
      " 4   recovered       1640 non-null   float64\n",
      " 5   active          1520 non-null   float64\n",
      "dtypes: float64(4), object(2)\n",
      "memory usage: 559.3+ KB\n"
     ]
    }
   ],
   "source": [
    "df = df.drop(columns=[\"province_state\", \"latitude\", \"longitude\", \"location_geom\", \"combined_key\", \"admin2\",\"fips\"])\n",
    "df.info()"
   ]
  },
  {
   "cell_type": "markdown",
   "metadata": {},
   "source": [
    "Kolom `confirmed`, `deaths`, `recovered`, dan `active` memiliki null value. Karena tipe data numeric, maka null value bisa diganti dengan 0."
   ]
  },
  {
   "cell_type": "code",
   "execution_count": 41,
   "metadata": {},
   "outputs": [
    {
     "name": "stdout",
     "output_type": "stream",
     "text": [
      "<class 'pandas.core.frame.DataFrame'>\n",
      "RangeIndex: 11930 entries, 0 to 11929\n",
      "Data columns (total 6 columns):\n",
      " #   Column          Non-Null Count  Dtype  \n",
      "---  ------          --------------  -----  \n",
      " 0   country_region  11930 non-null  object \n",
      " 1   date            11930 non-null  object \n",
      " 2   confirmed       11930 non-null  float64\n",
      " 3   deaths          11930 non-null  float64\n",
      " 4   recovered       11930 non-null  float64\n",
      " 5   active          11930 non-null  float64\n",
      "dtypes: float64(4), object(2)\n",
      "memory usage: 559.3+ KB\n"
     ]
    }
   ],
   "source": [
    "df = df.fillna(0)\n",
    "df.info()"
   ]
  },
  {
   "cell_type": "markdown",
   "metadata": {},
   "source": [
    "Tipe data date masih berupa object, perlu diconvert ke datetime (tipe data untuk date pada Pandas)"
   ]
  },
  {
   "cell_type": "code",
   "execution_count": 42,
   "metadata": {},
   "outputs": [
    {
     "name": "stdout",
     "output_type": "stream",
     "text": [
      "<class 'pandas.core.frame.DataFrame'>\n",
      "RangeIndex: 11930 entries, 0 to 11929\n",
      "Data columns (total 6 columns):\n",
      " #   Column          Non-Null Count  Dtype         \n",
      "---  ------          --------------  -----         \n",
      " 0   country_region  11930 non-null  object        \n",
      " 1   date            11930 non-null  datetime64[ns]\n",
      " 2   confirmed       11930 non-null  float64       \n",
      " 3   deaths          11930 non-null  float64       \n",
      " 4   recovered       11930 non-null  float64       \n",
      " 5   active          11930 non-null  float64       \n",
      "dtypes: datetime64[ns](1), float64(4), object(1)\n",
      "memory usage: 559.3+ KB\n"
     ]
    }
   ],
   "source": [
    "df['date'] = pd.to_datetime(df['date'])\n",
    "df.info()"
   ]
  },
  {
   "cell_type": "markdown",
   "metadata": {},
   "source": [
    "Data sudah clean, siap untuk dieksplorasi."
   ]
  },
  {
   "cell_type": "markdown",
   "metadata": {},
   "source": [
    "# Data Exploration"
   ]
  },
  {
   "cell_type": "markdown",
   "metadata": {},
   "source": [
    "Menjawab pertanyaan pertama, yaitu tanggal dengan kasus kematian mencapai puncaknya. Pertama data dikelompokkan (group) berdasarkan kolom `date`, kemudian dihitung banyaknya `deaths` menggunakan fungsi `sum()`. Setelah itu, data diurutkan dari yang terbesar."
   ]
  },
  {
   "cell_type": "code",
   "execution_count": 43,
   "metadata": {},
   "outputs": [
    {
     "data": {
      "text/html": [
       "<div>\n",
       "<style scoped>\n",
       "    .dataframe tbody tr th:only-of-type {\n",
       "        vertical-align: middle;\n",
       "    }\n",
       "\n",
       "    .dataframe tbody tr th {\n",
       "        vertical-align: top;\n",
       "    }\n",
       "\n",
       "    .dataframe thead th {\n",
       "        text-align: right;\n",
       "    }\n",
       "</style>\n",
       "<table border=\"1\" class=\"dataframe\">\n",
       "  <thead>\n",
       "    <tr style=\"text-align: right;\">\n",
       "      <th></th>\n",
       "      <th>date</th>\n",
       "      <th>deaths</th>\n",
       "    </tr>\n",
       "  </thead>\n",
       "  <tbody>\n",
       "    <tr>\n",
       "      <th>608</th>\n",
       "      <td>2021-09-22</td>\n",
       "      <td>2058107.0</td>\n",
       "    </tr>\n",
       "    <tr>\n",
       "      <th>1141</th>\n",
       "      <td>2023-03-09</td>\n",
       "      <td>199630.0</td>\n",
       "    </tr>\n",
       "    <tr>\n",
       "      <th>1140</th>\n",
       "      <td>2023-03-08</td>\n",
       "      <td>199626.0</td>\n",
       "    </tr>\n",
       "    <tr>\n",
       "      <th>1139</th>\n",
       "      <td>2023-03-07</td>\n",
       "      <td>199622.0</td>\n",
       "    </tr>\n",
       "    <tr>\n",
       "      <th>1138</th>\n",
       "      <td>2023-03-06</td>\n",
       "      <td>199620.0</td>\n",
       "    </tr>\n",
       "  </tbody>\n",
       "</table>\n",
       "</div>"
      ],
      "text/plain": [
       "           date     deaths\n",
       "608  2021-09-22  2058107.0\n",
       "1141 2023-03-09   199630.0\n",
       "1140 2023-03-08   199626.0\n",
       "1139 2023-03-07   199622.0\n",
       "1138 2023-03-06   199620.0"
      ]
     },
     "execution_count": 43,
     "metadata": {},
     "output_type": "execute_result"
    }
   ],
   "source": [
    "df.groupby('date')['deaths'].sum().reset_index().sort_values(by='deaths', ascending = False).head()"
   ]
  },
  {
   "cell_type": "markdown",
   "metadata": {},
   "source": [
    "Didapat tanggal 2021-09-22 adalah tanggal dengan kasus kematian terbanyak. Total kematian pada tanggal tersebut adalah 2058107 jiwa."
   ]
  },
  {
   "cell_type": "markdown",
   "metadata": {},
   "source": [
    "Menjawab pertanyaan kedua, yaitu tanggal dengan kasus kematian mencapai puncaknya. Pertama data dikelompokkan (group) berdasarkan kolom `date`, kemudian dihitung banyaknya `active` menggunakan fungsi `sum()`. Setelah itu, data diurutkan dari yang terbesar."
   ]
  },
  {
   "cell_type": "code",
   "execution_count": 44,
   "metadata": {},
   "outputs": [
    {
     "data": {
      "text/html": [
       "<div>\n",
       "<style scoped>\n",
       "    .dataframe tbody tr th:only-of-type {\n",
       "        vertical-align: middle;\n",
       "    }\n",
       "\n",
       "    .dataframe tbody tr th {\n",
       "        vertical-align: top;\n",
       "    }\n",
       "\n",
       "    .dataframe thead th {\n",
       "        text-align: right;\n",
       "    }\n",
       "</style>\n",
       "<table border=\"1\" class=\"dataframe\">\n",
       "  <thead>\n",
       "    <tr style=\"text-align: right;\">\n",
       "      <th></th>\n",
       "      <th>date</th>\n",
       "      <th>active</th>\n",
       "    </tr>\n",
       "  </thead>\n",
       "  <tbody>\n",
       "    <tr>\n",
       "      <th>555</th>\n",
       "      <td>2021-07-31</td>\n",
       "      <td>737137.0</td>\n",
       "    </tr>\n",
       "    <tr>\n",
       "      <th>559</th>\n",
       "      <td>2021-08-04</td>\n",
       "      <td>736547.0</td>\n",
       "    </tr>\n",
       "    <tr>\n",
       "      <th>549</th>\n",
       "      <td>2021-07-25</td>\n",
       "      <td>736348.0</td>\n",
       "    </tr>\n",
       "    <tr>\n",
       "      <th>553</th>\n",
       "      <td>2021-07-29</td>\n",
       "      <td>735669.0</td>\n",
       "    </tr>\n",
       "    <tr>\n",
       "      <th>552</th>\n",
       "      <td>2021-07-28</td>\n",
       "      <td>735394.0</td>\n",
       "    </tr>\n",
       "  </tbody>\n",
       "</table>\n",
       "</div>"
      ],
      "text/plain": [
       "          date    active\n",
       "555 2021-07-31  737137.0\n",
       "559 2021-08-04  736547.0\n",
       "549 2021-07-25  736348.0\n",
       "553 2021-07-29  735669.0\n",
       "552 2021-07-28  735394.0"
      ]
     },
     "execution_count": 44,
     "metadata": {},
     "output_type": "execute_result"
    }
   ],
   "source": [
    "df.groupby('date')['active'].sum().reset_index().sort_values(by='active', ascending = False).head()"
   ]
  },
  {
   "cell_type": "markdown",
   "metadata": {},
   "source": [
    "Didapat tanggal 2021-07-31 adalah tanggal dengan kasus aktif terbanyak. Total kasus aktif pada tanggal tersebut adalah 737137 jiwa."
   ]
  },
  {
   "cell_type": "markdown",
   "metadata": {},
   "source": [
    "Banyaknya kematian didapat dengan melakukan `sum()` pada kolom `deaths` sebagai berikut."
   ]
  },
  {
   "cell_type": "code",
   "execution_count": 45,
   "metadata": {},
   "outputs": [
    {
     "data": {
      "text/plain": [
       "122633747.0"
      ]
     },
     "execution_count": 45,
     "metadata": {},
     "output_type": "execute_result"
    }
   ],
   "source": [
    "df['deaths'].sum()"
   ]
  },
  {
   "cell_type": "markdown",
   "metadata": {},
   "source": [
    "Jumlah kematian keseluruhan adalah 122633747 jiwa."
   ]
  },
  {
   "cell_type": "markdown",
   "metadata": {},
   "source": [
    "# Conclusion"
   ]
  },
  {
   "cell_type": "markdown",
   "metadata": {},
   "source": [
    "Pada tanggal 31 Juli 2021, jumlah kasus aktif mencapai puncaknya dengan 737.137 kasus. Sementara itu, pada tanggal 22 September 2021, jumlah kematian mencapai rekor tertingginya, yakni 2.058.107 jiwa. Secara keseluruhan, total kematian telah mencapai 122.633.747 jiwa.\n",
    "\n",
    "Mengingat tingginya jumlah kasus aktif dan tingkat kematian, penting bagi pemerintah atau otoritas yang berwenang untuk mengambil tindakan serius dalam menangani pandemi ini. Tindakan yang diambil dapat berupa peningkatan fasilitas kesehatan, pengendalian mobilitas, dan implementasi kebijakan Work From Home (WFH)."
   ]
  }
 ],
 "metadata": {
  "kernelspec": {
   "display_name": "Python 3",
   "language": "python",
   "name": "python3"
  },
  "language_info": {
   "codemirror_mode": {
    "name": "ipython",
    "version": 3
   },
   "file_extension": ".py",
   "mimetype": "text/x-python",
   "name": "python",
   "nbconvert_exporter": "python",
   "pygments_lexer": "ipython3",
   "version": "3.11.0"
  },
  "orig_nbformat": 4
 },
 "nbformat": 4,
 "nbformat_minor": 2
}
